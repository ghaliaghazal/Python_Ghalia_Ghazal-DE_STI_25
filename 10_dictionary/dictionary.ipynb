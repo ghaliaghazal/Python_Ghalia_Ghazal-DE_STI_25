{
 "cells": [
  {
   "cell_type": "markdown",
   "metadata": {},
   "source": [
    "Dictionary"
   ]
  },
  {
   "cell_type": "markdown",
   "metadata": {},
   "source": [
    "- also a collection data type\n",
    "- the data is stored in key-value pairs"
   ]
  },
  {
   "cell_type": "markdown",
   "metadata": {},
   "source": [
    "Creat a dictionary with dict() class"
   ]
  },
  {
   "cell_type": "code",
   "execution_count": 3,
   "metadata": {},
   "outputs": [],
   "source": [
    "person = dict (\n",
    "    name = \"Ghalia\",\n",
    "    age = 39,\n",
    "    work = \"data engineer\"\n",
    ")"
   ]
  },
  {
   "cell_type": "code",
   "execution_count": 4,
   "metadata": {},
   "outputs": [
    {
     "name": "stdout",
     "output_type": "stream",
     "text": [
      "{'name': 'Ghalia', 'age': 39, 'work': 'data engineer'}\n"
     ]
    }
   ],
   "source": [
    "print (person)"
   ]
  },
  {
   "cell_type": "code",
   "execution_count": 8,
   "metadata": {},
   "outputs": [
    {
     "name": "stdout",
     "output_type": "stream",
     "text": [
      "Ghalia\n",
      "39\n"
     ]
    }
   ],
   "source": [
    "print (person ['name'])\n",
    "print (person ['age'])"
   ]
  },
  {
   "cell_type": "markdown",
   "metadata": {},
   "source": [
    "Creat a dictionary with {}"
   ]
  },
  {
   "cell_type": "code",
   "execution_count": 12,
   "metadata": {},
   "outputs": [],
   "source": [
    "person = {\n",
    "        \"name\" : \"Ghalia\",\n",
    "        \"age\" : 39,\n",
    "        \"work\" : \"data engineer\",\n",
    "        \"interest\" : [\"reading\", \"traveling\", \"swimming\"],\n",
    "        \"address\" : {\"country\": \"Sweden\", \"city\": \"Stockholm\"}\n",
    "        }"
   ]
  },
  {
   "cell_type": "code",
   "execution_count": 18,
   "metadata": {},
   "outputs": [
    {
     "name": "stdout",
     "output_type": "stream",
     "text": [
      "Ghalia\n",
      "['reading', 'traveling', 'swimming']\n",
      "reading\n",
      "Stockholm\n"
     ]
    }
   ],
   "source": [
    "print (person [\"name\"])\n",
    "print (person [\"interest\"])\n",
    "\n",
    "print ( person [\"interest\"] [0])\n",
    "\n",
    "print ( person [\"address\"] [\"city\"])"
   ]
  },
  {
   "cell_type": "markdown",
   "metadata": {},
   "source": [
    "Iterate over a dictionary"
   ]
  },
  {
   "cell_type": "code",
   "execution_count": 20,
   "metadata": {},
   "outputs": [],
   "source": [
    "words = {\n",
    "    \"data structure\": \" means of storing data\",\n",
    "    \"regression\": \"a function to best fit the data\", \n",
    "    \"method\": \"a function bound to an object\"\n",
    "}"
   ]
  },
  {
   "cell_type": "code",
   "execution_count": 22,
   "metadata": {},
   "outputs": [
    {
     "name": "stdout",
     "output_type": "stream",
     "text": [
      "Key: data structure\n",
      "Value:  means of storing data\n",
      "---------\n",
      "Key: regression\n",
      "Value: a function to best fit the data\n",
      "---------\n",
      "Key: method\n",
      "Value: a function bound to an object\n",
      "---------\n"
     ]
    }
   ],
   "source": [
    "# iterative over both keys and values # التكرار على كل من المفاتيح والقيم\n",
    "for key, value in words.items(): \n",
    "    print(f\"Key: {key}\")\n",
    "    print(f\"Value: {value}\")\n",
    "    print(\"---------\")\n"
   ]
  },
  {
   "cell_type": "code",
   "execution_count": 23,
   "metadata": {},
   "outputs": [
    {
     "name": "stdout",
     "output_type": "stream",
     "text": [
      "Value:  means of storing data\n",
      "----------\n",
      "Value: a function to best fit the data\n",
      "----------\n",
      "Value: a function bound to an object\n",
      "----------\n"
     ]
    }
   ],
   "source": [
    "# iterative over keys\n",
    "for value in words.values():\n",
    "    print(f\"Value: {value}\")\n",
    "    print(\"----------\")\n",
    "    "
   ]
  },
  {
   "cell_type": "markdown",
   "metadata": {},
   "source": [
    "Dictionary comprehension: \n",
    "It is a way to create a dictionary in a short and fast way using only one line, instead of writing a full for loop.\n"
   ]
  },
  {
   "cell_type": "code",
   "execution_count": 24,
   "metadata": {},
   "outputs": [
    {
     "data": {
      "text/plain": [
       "{'F': 0, 'E': 10, 'D': 20, 'C': 30, 'B': 40, 'A': 50}"
      ]
     },
     "execution_count": 24,
     "metadata": {},
     "output_type": "execute_result"
    }
   ],
   "source": [
    "# we want to produce a dictionary called grade_limit \n",
    "\n",
    "# create this dictionary from scratch \n",
    "grade_limit = {\n",
    "              \"F\": 0,\n",
    "              \"E\": 10,\n",
    "              \"D\": 20,\n",
    "              \"C\": 30,\n",
    "              \"B\": 40,\n",
    "              \"A\": 50\n",
    "              }\n",
    "\n",
    "grade_limit"
   ]
  },
  {
   "cell_type": "code",
   "execution_count": 25,
   "metadata": {},
   "outputs": [
    {
     "name": "stdout",
     "output_type": "stream",
     "text": [
      "0\n",
      "F\n",
      "1\n",
      "E\n",
      "2\n",
      "D\n",
      "3\n",
      "C\n",
      "4\n",
      "B\n",
      "5\n",
      "A\n"
     ]
    },
    {
     "data": {
      "text/plain": [
       "{'F': 0, 'E': 10, 'D': 20, 'C': 30, 'B': 40, 'A': 50}"
      ]
     },
     "execution_count": 25,
     "metadata": {},
     "output_type": "execute_result"
    }
   ],
   "source": [
    "# create the same dictionary but with dictionary comprehension\n",
    "\n",
    "# check out the loop that will be used inside dictionary comprehension\n",
    "for i, grade in enumerate(\"FEDCBA\"):\n",
    "    print(i)\n",
    "    print(grade)\n",
    "\n",
    "# create the dictionary now\n",
    "grade_limit = {grade: i*10 for i, grade in enumerate(\"FEDCBA\")}\n",
    "\n",
    "grade_limit"
   ]
  }
 ],
 "metadata": {
  "kernelspec": {
   "display_name": "Python 3",
   "language": "python",
   "name": "python3"
  },
  "language_info": {
   "codemirror_mode": {
    "name": "ipython",
    "version": 3
   },
   "file_extension": ".py",
   "mimetype": "text/x-python",
   "name": "python",
   "nbconvert_exporter": "python",
   "pygments_lexer": "ipython3",
   "version": "3.12.8"
  }
 },
 "nbformat": 4,
 "nbformat_minor": 2
}
