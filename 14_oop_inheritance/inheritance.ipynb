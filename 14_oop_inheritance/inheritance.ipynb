{
 "cells": [
  {
   "cell_type": "markdown",
   "metadata": {},
   "source": [
    "# Inheritance "
   ]
  },
  {
   "cell_type": "code",
   "execution_count": 11,
   "metadata": {},
   "outputs": [
    {
     "name": "stdout",
     "output_type": "stream",
     "text": [
      "property 'name' of 'person' object has no setter\n",
      "Örjan\n",
      "Örjan says hi\n"
     ]
    }
   ],
   "source": [
    "\n",
    "class person:\n",
    "    def __init__ (self, name: str, age: int):\n",
    "        self._name = name\n",
    "        self.age = age\n",
    "\n",
    "    \n",
    "    @property\n",
    "    def name (self):\n",
    "        return self._name\n",
    "\n",
    "    @property\n",
    "    def age (self):\n",
    "        return self.age\n",
    "\n",
    "    @age.setter\n",
    "    def age (self, value:int):\n",
    "\n",
    "        if not isinstance  (value, int):\n",
    "            raise TypeError (f\"age must be of type int, not {type (value)}\")\n",
    "\n",
    "\n",
    "        if value < 0 or value > 124:\n",
    "            raise ValueError (f\" age must be between 0 and 123, not {value} \")\n",
    "\n",
    "\n",
    "        self._age = value\n",
    "\n",
    "    def say_hi (self) -> None:\n",
    "        print (f\"{self.name} says hi\")\n",
    "\n",
    "\n",
    "\n",
    "\n",
    "p1 = person (\"Örjan\", 25)  \n",
    "\n",
    "try:\n",
    "    # setter not defined\n",
    "    p1.name = \"Börje\"\n",
    "except AttributeError as err:\n",
    "    print (err)\n",
    "\n",
    "    # used getter\n",
    "    print (p1.name)\n",
    "\n",
    "    p1.say_hi()"
   ]
  },
  {
   "cell_type": "code",
   "execution_count": 12,
   "metadata": {},
   "outputs": [
    {
     "name": "stdout",
     "output_type": "stream",
     "text": [
      " age must be between 0 and 123, not -5 \n"
     ]
    },
    {
     "ename": "TypeError",
     "evalue": "age must be of type int, not <class 'str'>",
     "output_type": "error",
     "traceback": [
      "\u001b[31m---------------------------------------------------------------------------\u001b[39m",
      "\u001b[31mTypeError\u001b[39m                                 Traceback (most recent call last)",
      "\u001b[36mCell\u001b[39m\u001b[36m \u001b[39m\u001b[32mIn[12]\u001b[39m\u001b[32m, line 9\u001b[39m\n\u001b[32m      5\u001b[39m     \u001b[38;5;28mprint\u001b[39m (err)\n\u001b[32m      8\u001b[39m \u001b[38;5;28;01mtry\u001b[39;00m:\n\u001b[32m----> \u001b[39m\u001b[32m9\u001b[39m     p3 = \u001b[43mperson\u001b[49m\u001b[43m \u001b[49m\u001b[43m(\u001b[49m\u001b[33;43m\"\u001b[39;49m\u001b[33;43mDuddo\u001b[39;49m\u001b[33;43m\"\u001b[39;49m\u001b[43m,\u001b[49m\u001b[43m \u001b[49m\u001b[43mage\u001b[49m\u001b[43m \u001b[49m\u001b[43m=\u001b[49m\u001b[43m \u001b[49m\u001b[33;43m\"\u001b[39;49m\u001b[33;43mfemtio\u001b[39;49m\u001b[33;43m\"\u001b[39;49m\u001b[43m)\u001b[49m\n\u001b[32m     11\u001b[39m \u001b[38;5;28;01mexcept\u001b[39;00m \u001b[38;5;167;01mAttributeError\u001b[39;00m \u001b[38;5;28;01mas\u001b[39;00m err:\n\u001b[32m     12\u001b[39m     \u001b[38;5;28mprint\u001b[39m (err)\n",
      "\u001b[36mCell\u001b[39m\u001b[36m \u001b[39m\u001b[32mIn[11]\u001b[39m\u001b[32m, line 4\u001b[39m, in \u001b[36mperson.__init__\u001b[39m\u001b[34m(self, name, age)\u001b[39m\n\u001b[32m      2\u001b[39m \u001b[38;5;28;01mdef\u001b[39;00m\u001b[38;5;250m \u001b[39m\u001b[34m__init__\u001b[39m (\u001b[38;5;28mself\u001b[39m, name: \u001b[38;5;28mstr\u001b[39m, age: \u001b[38;5;28mint\u001b[39m):\n\u001b[32m      3\u001b[39m     \u001b[38;5;28mself\u001b[39m._name = name\n\u001b[32m----> \u001b[39m\u001b[32m4\u001b[39m     \u001b[38;5;28;43mself\u001b[39;49m\u001b[43m.\u001b[49m\u001b[43mage\u001b[49m = age\n",
      "\u001b[36mCell\u001b[39m\u001b[36m \u001b[39m\u001b[32mIn[11]\u001b[39m\u001b[32m, line 19\u001b[39m, in \u001b[36mperson.age\u001b[39m\u001b[34m(self, value)\u001b[39m\n\u001b[32m     15\u001b[39m \u001b[38;5;129m@age\u001b[39m.setter\n\u001b[32m     16\u001b[39m \u001b[38;5;28;01mdef\u001b[39;00m\u001b[38;5;250m \u001b[39m\u001b[34mage\u001b[39m (\u001b[38;5;28mself\u001b[39m, value:\u001b[38;5;28mint\u001b[39m):\n\u001b[32m     18\u001b[39m     \u001b[38;5;28;01mif\u001b[39;00m \u001b[38;5;129;01mnot\u001b[39;00m \u001b[38;5;28misinstance\u001b[39m  (value, \u001b[38;5;28mint\u001b[39m):\n\u001b[32m---> \u001b[39m\u001b[32m19\u001b[39m         \u001b[38;5;28;01mraise\u001b[39;00m \u001b[38;5;167;01mTypeError\u001b[39;00m (\u001b[33mf\u001b[39m\u001b[33m\"\u001b[39m\u001b[33mage must be of type int, not \u001b[39m\u001b[38;5;132;01m{\u001b[39;00m\u001b[38;5;28mtype\u001b[39m\u001b[38;5;250m \u001b[39m(value)\u001b[38;5;132;01m}\u001b[39;00m\u001b[33m\"\u001b[39m)\n\u001b[32m     22\u001b[39m     \u001b[38;5;28;01mif\u001b[39;00m value < \u001b[32m0\u001b[39m \u001b[38;5;129;01mor\u001b[39;00m value > \u001b[32m124\u001b[39m:\n\u001b[32m     23\u001b[39m         \u001b[38;5;28;01mraise\u001b[39;00m \u001b[38;5;167;01mValueError\u001b[39;00m (\u001b[33mf\u001b[39m\u001b[33m\"\u001b[39m\u001b[33m age must be between 0 and 123, not \u001b[39m\u001b[38;5;132;01m{\u001b[39;00mvalue\u001b[38;5;132;01m}\u001b[39;00m\u001b[33m \u001b[39m\u001b[33m\"\u001b[39m)\n",
      "\u001b[31mTypeError\u001b[39m: age must be of type int, not <class 'str'>"
     ]
    }
   ],
   "source": [
    "try:\n",
    "    p2 = person (\"Ceda\", age = -5)\n",
    "\n",
    "except ValueError as err:\n",
    "    print (err)\n",
    "\n",
    "\n",
    "try:\n",
    "    p3 = person (\"Duddo\", age = \"femtio\")\n",
    "\n",
    "except AttributeError as err:\n",
    "    print (err)\n"
   ]
  },
  {
   "cell_type": "markdown",
   "metadata": {},
   "source": [
    "# Implement student"
   ]
  },
  {
   "cell_type": "code",
   "execution_count": null,
   "metadata": {},
   "outputs": [
    {
     "name": "stdout",
     "output_type": "stream",
     "text": [
      " age must be between 0 and 123, not 125 \n",
      "Student Dan says hi in language Python\n"
     ]
    }
   ],
   "source": [
    "class student (person):\n",
    "    def __init__ (self, name = str, age = int, language = str ):\n",
    "        # this goes to the parent and use its __init__\n",
    "        super ().__init__(name, age)\n",
    "        self.language = language \n",
    "\n",
    "\n",
    "    # overrides say_hi() --> when calling say_hi() from a student\n",
    "    # # it will call this say_hi() and not the parent one \n",
    "    def say_hi (self):\n",
    "        print (f\"Student {self.name} says hi in language {self.language}\")\n",
    "\n",
    "\n",
    "try:\n",
    "    s1 = student (\"Bjorn\", 125, language = \"Norska\")\n",
    "except ValueError as err:\n",
    "    print (err)\n",
    "\n",
    "s2 = student (\"Dan\", 37, language = \"Python\")\n",
    "s2.say_hi()"
   ]
  },
  {
   "cell_type": "code",
   "execution_count": 16,
   "metadata": {},
   "outputs": [
    {
     "name": "stdout",
     "output_type": "stream",
     "text": [
      "Ubbe says hi\n"
     ]
    },
    {
     "data": {
      "text/plain": [
       "OldCoinStash(owner='Ubbe')"
      ]
     },
     "execution_count": 16,
     "metadata": {},
     "output_type": "execute_result"
    }
   ],
   "source": [
    "from oldcoins import OldCoinsStash\n",
    "class Viking (person):\n",
    "    def __init__ (self, name: str, age: int)-> None:\n",
    "        super(). __init__ (name, age)\n",
    "\n",
    "        # compisition _ \"has a\" relationship\n",
    "        self.stash = OldCoinsStash (name)\n",
    "\n",
    "\n",
    "\n",
    "viking_ubbe = Viking (\"Ubbe\", 35)\n",
    "viking_ubbe.say_hi()\n",
    "\n",
    "viking_ubbe.stash\n",
    "\n",
    "\n",
    "\n"
   ]
  },
  {
   "cell_type": "code",
   "execution_count": null,
   "metadata": {},
   "outputs": [],
   "source": []
  }
 ],
 "metadata": {
  "kernelspec": {
   "display_name": "Python 3",
   "language": "python",
   "name": "python3"
  },
  "language_info": {
   "codemirror_mode": {
    "name": "ipython",
    "version": 3
   },
   "file_extension": ".py",
   "mimetype": "text/x-python",
   "name": "python",
   "nbconvert_exporter": "python",
   "pygments_lexer": "ipython3",
   "version": "3.12.8"
  }
 },
 "nbformat": 4,
 "nbformat_minor": 2
}
