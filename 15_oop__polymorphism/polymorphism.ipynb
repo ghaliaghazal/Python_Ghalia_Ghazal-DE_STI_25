{
 "cells": [
  {
   "cell_type": "markdown",
   "metadata": {},
   "source": [
    "# Polymorphism\n",
    "\n",
    "\" many shapes\"\n",
    "\n",
    "- same function name or operator used for different types \n",
    "\n",
    "- e.g.\n",
    "- 2 + 3 -> 5\n",
    "\n",
    "in this exaple, the plus operator works different for different types, it has been operator overloadad "
   ]
  },
  {
   "cell_type": "code",
   "execution_count": 2,
   "metadata": {},
   "outputs": [
    {
     "data": {
      "text/plain": [
       "'222'"
      ]
     },
     "execution_count": 2,
     "metadata": {},
     "output_type": "execute_result"
    }
   ],
   "source": [
    "\"2\" + \"22\""
   ]
  },
  {
   "cell_type": "code",
   "execution_count": 3,
   "metadata": {},
   "outputs": [
    {
     "data": {
      "text/plain": [
       "24"
      ]
     },
     "execution_count": 3,
     "metadata": {},
     "output_type": "execute_result"
    }
   ],
   "source": [
    "2 + 22"
   ]
  },
  {
   "cell_type": "code",
   "execution_count": 1,
   "metadata": {},
   "outputs": [
    {
     "data": {
      "text/plain": [
       "[2, 2]"
      ]
     },
     "execution_count": 1,
     "metadata": {},
     "output_type": "execute_result"
    }
   ],
   "source": [
    "[2] * 2"
   ]
  },
  {
   "cell_type": "code",
   "execution_count": 2,
   "metadata": {},
   "outputs": [
    {
     "data": {
      "text/plain": [
       "[2, 2]"
      ]
     },
     "execution_count": 2,
     "metadata": {},
     "output_type": "execute_result"
    }
   ],
   "source": [
    "[2]+ [2]"
   ]
  },
  {
   "cell_type": "markdown",
   "metadata": {},
   "source": [
    "# Polymorphism in class methods"
   ]
  },
  {
   "cell_type": "code",
   "execution_count": 9,
   "metadata": {},
   "outputs": [
    {
     "name": "stdout",
     "output_type": "stream",
     "text": [
      "Iam a fish, my name is Fisky\n",
      "fish Fisky says blupp blupp\n",
      "Iam a fish, my name is Goldy\n",
      "fish Goldy says blupp blupp\n",
      "Iam a fish, my name is Ylvis\n"
     ]
    }
   ],
   "source": [
    "class Fish:\n",
    "    def __init__ (self, name):\n",
    "        self.name = name\n",
    "    def __str__ (self):\n",
    "        return f\"Iam a fish, my name is {self.name}\"\n",
    "\n",
    "    def speak (self):\n",
    "        print (f\"fish {self.name} says blupp blupp\")\n",
    "        \n",
    "class Fox:\n",
    "    def __init__ (self, name):\n",
    "        self.name = name\n",
    "\n",
    "    def __str__ (self):\n",
    "        return f\"Iam a fish, my name is {self.name}\"\n",
    "\n",
    "    \n",
    "    def speak (self):\n",
    "        return NotImplemented\n",
    "\n",
    "animals = [Fish (\"Fisky\"), Fish(\"Goldy\"), Fox (\"Ylvis\")]\n",
    "\n",
    "for animal in animals:\n",
    "    print (animal)\n",
    "    animal.speak()\n"
   ]
  },
  {
   "cell_type": "markdown",
   "metadata": {},
   "source": [
    "# Operator overloading\n",
    "\n",
    "\n",
    "<div style=\"max-width:66ch;\">\n",
    "\n",
    "## Operator overloading\n",
    "\n",
    "<table style=\"display:inline-block; text-align:left;\">\n",
    "  <tr style=\"background-color: #174A7E; color: white;\">\n",
    "    <th>Operator</th>\n",
    "    <th>Dunder Method</th>\n",
    "  </tr>\n",
    "  <tr>\n",
    "    <td style=\"text-align: center;\">+</td>\n",
    "    <td style=\"text-align: center;\">__add__(self, other)</td>\n",
    "  </tr>\n",
    "  <tr>\n",
    "    <td style=\"text-align: center;\">-</td>\n",
    "    <td style=\"text-align: center;\">__sub__(self, other)</td>\n",
    "  </tr>\n",
    "  <tr>\n",
    "    <td style=\"text-align: center;\">*</td>\n",
    "    <td style=\"text-align: center;\">__mul__(self, other)</td>\n",
    "  </tr>\n",
    "  <tr>\n",
    "    <td style=\"text-align: center;\">/</td>\n",
    "    <td style=\"text-align: center;\">__div__(self, other)</td>\n",
    "  </tr>\n",
    "  <tr>\n",
    "    <td style=\"text-align: center;\">//</td>\n",
    "    <td style=\"text-align: center;\">__floordiv__(self, other)</td>\n",
    "  </tr>\n",
    "  <tr>\n",
    "    <td style=\"text-align: center;\">%</td>\n",
    "    <td style=\"text-align: center;\">__mod__(self, other)</td>\n",
    "  </tr>\n",
    "  <tr>\n",
    "    <td style=\"text-align: center;\">**</td>\n",
    "    <td style=\"text-align: center;\">__pow__(self, other)</td>\n",
    "  </tr>\n",
    "  <tr>\n",
    "    <td style=\"text-align: center;\"><</td>\n",
    "    <td style=\"text-align: center;\">__lt__(self, other)</td>\n",
    "  </tr>\n",
    "  <tr>\n",
    "    <td style=\"text-align: center;\"><=</td>\n",
    "    <td style=\"text-align: center;\">__le__(self, other)</td>\n",
    "  </tr>\n",
    "  <tr>\n",
    "    <td style=\"text-align: center;\">></td>\n",
    "    <td style=\"text-align: center;\">__gt__(self, other)</td>\n",
    "  </tr>\n",
    "  <tr>\n",
    "    <td style=\"text-align: center;\">>=</td>\n",
    "    <td style=\"text-align: center;\">__ge__(self, other)</td>\n",
    "  </tr>\n",
    "  <tr>\n",
    "    <td style=\"text-align: center;\">==</td>\n",
    "    <td style=\"text-align: center;\">__eq__(self, other)</td>\n",
    "  </tr>\n",
    "</table>\n",
    "\n",
    "</div>\n"
   ]
  },
  {
   "cell_type": "markdown",
   "metadata": {},
   "source": [
    "# Vector"
   ]
  },
  {
   "cell_type": "code",
   "execution_count": 10,
   "metadata": {},
   "outputs": [
    {
     "name": "stdout",
     "output_type": "stream",
     "text": [
      "<class 'tuple'>\n",
      "(1, 2)\n",
      "<class 'tuple'>\n",
      "('1', 2)\n",
      "value must be number not <class 'str'>\n",
      "<class 'tuple'>\n",
      "()\n",
      "Vector can't be empty\n"
     ]
    }
   ],
   "source": [
    "from utils import validate_number\n",
    "\n",
    "class Vector:\n",
    "    \"\"\" A class representing a Euclidean vector \"\"\"\n",
    "\n",
    "    def __init__ (self, * numbers):\n",
    "        print (type(numbers))\n",
    "        print (numbers)\n",
    "\n",
    "        for number in numbers:\n",
    "            validate_number (number)\n",
    "\n",
    "        if len (numbers) <= 0:\n",
    "            raise ValueError (\"Vector can't be empty\")\n",
    "            \n",
    "\n",
    "        self._numbers = numbers\n",
    "\n",
    "\n",
    "    @property\n",
    "    def numbers (self):\n",
    "        return self.numbers\n",
    "            \n",
    "\n",
    "\n",
    "v1 = Vector(1,2)\n",
    "\n",
    "try:\n",
    "    v2 = Vector(\"1\",2)\n",
    "except TypeError as err:\n",
    "    print (err)\n",
    "\n",
    "try:\n",
    "    v2 = Vector()\n",
    "except ValueError as err:\n",
    "    print (err)\n",
    "\n"
   ]
  },
  {
   "cell_type": "code",
   "execution_count": 35,
   "metadata": {},
   "outputs": [
    {
     "ename": "ModuleNotFoundError",
     "evalue": "No module named '_numbers'",
     "output_type": "error",
     "traceback": [
      "\u001b[31m---------------------------------------------------------------------------\u001b[39m",
      "\u001b[31mModuleNotFoundError\u001b[39m                       Traceback (most recent call last)",
      "\u001b[36mCell\u001b[39m\u001b[36m \u001b[39m\u001b[32mIn[35]\u001b[39m\u001b[32m, line 1\u001b[39m\n\u001b[32m----> \u001b[39m\u001b[32m1\u001b[39m \u001b[38;5;28;01mfrom\u001b[39;00m\u001b[38;5;250m \u001b[39m\u001b[34;01m_numbers\u001b[39;00m\u001b[38;5;250m \u001b[39m\u001b[38;5;28;01mimport\u001b[39;00m Number\n\u001b[32m      2\u001b[39m \u001b[38;5;28;01mclass\u001b[39;00m\u001b[38;5;250m \u001b[39m\u001b[34;01mVector\u001b[39;00m:\n\u001b[32m      3\u001b[39m \u001b[38;5;250m    \u001b[39m\u001b[33;03m\"\"\" A class representing a Euclidean vector \"\"\"\u001b[39;00m\n",
      "\u001b[31mModuleNotFoundError\u001b[39m: No module named '_numbers'"
     ]
    }
   ],
   "source": [
    "from _numbers import Number\n",
    "\n",
    "\n",
    "class Vector:\n",
    "    \"\"\" A class representing a Euclidean vector \"\"\"\n",
    "\n",
    "    def __init__ (self, * numbers):\n",
    "\n",
    "        # validation\n",
    "        for number in numbers:\n",
    "            validate_number (number)\n",
    "\n",
    "        if len (numbers) <= 0:\n",
    "            raise ValueError (\"Vector can't be empty\")\n",
    "            \n",
    "\n",
    "        self._numbers = numbers\n",
    "\n",
    "    # read_only\n",
    "    @property\n",
    "    def numbers (self) ->tuple:\n",
    "        return self._numbers\n",
    "\n",
    "    def __repr__(self):\n",
    "        return f\"Vector{self.numbers}\"\n",
    "\n",
    "    # operator overloading -> makes it possible to use len() function on Vector\n",
    "    def __len__ (self) -> int:\n",
    "        return len(self.numbers)\n",
    "\n",
    "    def __add__ (self, other:Vector) ->Vector:\n",
    "        # validation code - stopaddition of different Vector dimensions\n",
    "\n",
    "        # elementwise addition between 2 tuples\n",
    "        numbers = (a + b for a,b in zip(self.numbers, other.numbers))\n",
    "        return Vector (* numbers)\n",
    "\n",
    "    def __sub__ (self, other:Vector) ->Vector:\n",
    "        # validation code - stopaddition of different Vector dimensions\n",
    "\n",
    "        # elementwise addition between 2 tuples\n",
    "        numbers = (a - b for a,b in zip(self.numbers, other.numbers))\n",
    "        return Vector (* numbers)\n",
    "\n",
    "    def __getitem__(self, item: int) ->Number:\n",
    "        return self.numbers[item]\n",
    "\n",
    "    def __mul__(self, number: Number) -> Vector:\n",
    "        numbers = (number * a for a in self.numbers)\n",
    "        return Vector (*numbers)\n",
    "\n",
    "    def __rmul__(self, number: Number) -> Vector:\n",
    "        return self * number\n",
    "\n",
    "v3 = Vector(1,1)\n",
    "v4 = Vector(1,2,41,5,2,6)\n",
    "v5 = Vector(2, -1)\n",
    "print (f\"{len(v3)=}\")\n",
    "print (f\"{len(v4)=}\")\n",
    "print (f\"{v3 = }\")\n",
    "print (f\"{v5 = }\")\n",
    "print (f\"{v3+v5 = }\")\n",
    "print (f\"{v3-v5 = }\")\n",
    "print (f\"{v4[-1] = }\")\n",
    "print (f\"{v4[2:] = }\")\n",
    "print (f\"{v3 * 5 = }\")\n",
    "\n",
    "\n",
    "\n",
    "# Vector (1+2, 1+(-1)) = Vector(3, 0)\n",
    "v5 + v3, v3 + v5\n",
    "\n"
   ]
  },
  {
   "cell_type": "code",
   "execution_count": 24,
   "metadata": {},
   "outputs": [
    {
     "name": "stdout",
     "output_type": "stream",
     "text": [
      "1 -1\n",
      "2 -2\n",
      "3 -3\n"
     ]
    }
   ],
   "source": [
    "for a,b in zip((1,2,3), (-1,-2,-3)):\n",
    "    print (a, b)"
   ]
  },
  {
   "cell_type": "code",
   "execution_count": 19,
   "metadata": {},
   "outputs": [
    {
     "data": {
      "text/plain": [
       "2"
      ]
     },
     "execution_count": 19,
     "metadata": {},
     "output_type": "execute_result"
    }
   ],
   "source": [
    "len([1, 2])\n",
    "\n",
    "print (len[1, 2])"
   ]
  },
  {
   "cell_type": "code",
   "execution_count": null,
   "metadata": {},
   "outputs": [],
   "source": []
  }
 ],
 "metadata": {
  "kernelspec": {
   "display_name": "Python 3",
   "language": "python",
   "name": "python3"
  },
  "language_info": {
   "codemirror_mode": {
    "name": "ipython",
    "version": 3
   },
   "file_extension": ".py",
   "mimetype": "text/x-python",
   "name": "python",
   "nbconvert_exporter": "python",
   "pygments_lexer": "ipython3",
   "version": "3.12.8"
  }
 },
 "nbformat": 4,
 "nbformat_minor": 2
}
