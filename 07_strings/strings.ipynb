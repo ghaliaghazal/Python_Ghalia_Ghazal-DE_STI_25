{
 "cells": [
  {
   "cell_type": "markdown",
   "metadata": {},
   "source": [
    "Lecture 7 - strings\n",
    "\n",
    "- we have just created and printed out string type variable in lecture 4\n",
    "- this lecture is more about strings"
   ]
  },
  {
   "cell_type": "markdown",
   "metadata": {},
   "source": [
    "Concatenate strings (ربط السلاسل)"
   ]
  },
  {
   "cell_type": "code",
   "execution_count": 1,
   "metadata": {},
   "outputs": [
    {
     "name": "stdout",
     "output_type": "stream",
     "text": [
      "GhaliaGhazal\n"
     ]
    }
   ],
   "source": [
    "# concatenate multiple strings with + operator \n",
    "# remember + operator has another meaning when it comes to numeric variables\n",
    "\n",
    "firstname = \"Ghalia\"\n",
    "lastname = \"Ghazal\"\n",
    "\n",
    "\n",
    "# concatenate without \" \"\n",
    "fullname = firstname + lastname\n",
    "print(fullname)"
   ]
  },
  {
   "cell_type": "code",
   "execution_count": 5,
   "metadata": {},
   "outputs": [
    {
     "name": "stdout",
     "output_type": "stream",
     "text": [
      "Ghalia Ghazal\n"
     ]
    }
   ],
   "source": [
    "# concatenate also with \" \"\n",
    "space = \" \"\n",
    "fullname_with_space = firstname + space + lastname # we can replace the space variable just with \" \"\n",
    "                                                   #fullname2 = firstname + \" \" + lastname\n",
    "print(fullname_with_space)"
   ]
  },
  {
   "cell_type": "code",
   "execution_count": 12,
   "metadata": {},
   "outputs": [
    {
     "name": "stdout",
     "output_type": "stream",
     "text": [
      "Ghalia Ghazal is working in a company called AIginner AB. And his address is  Hässelby strand .\n",
      "Ghalia Ghazal is working in a company called AIginner AB. \n",
      "      And his address is  Hässelby strand .\n"
     ]
    }
   ],
   "source": [
    "# multiline f-string for concatenating many strings\n",
    "work = \"AIginner AB\"\n",
    "adress = \" Hässelby strand \"\n",
    "\n",
    "# f-string with one line\n",
    "print(f\"{fullname_with_space} is working in a company called {work}. And his address is {adress}.\")\n",
    "\n",
    "# f-string with multiline\n",
    "print(f\"\"\"{fullname_with_space} is working in a company called {work}. \n",
    "      And her address is {adress}.\"\"\")\n",
    "\n"
   ]
  },
  {
   "cell_type": "code",
   "execution_count": 13,
   "metadata": {},
   "outputs": [
    {
     "name": "stdout",
     "output_type": "stream",
     "text": [
      "Today's fruits: apple, orange, strawberry\n",
      "apple\n",
      "orange\n",
      "strawberry\n"
     ]
    }
   ],
   "source": [
    "# concatenate with loop \n",
    "\n",
    "fruits_today = \"apple, \" + \"orange, \" + \"strawberry\"\n",
    "print(f\"Today's fruits: {fruits_today}\")\n",
    "\n",
    "fruits_today_list = [\"apple\", \"orange\", \"strawberry\"]\n",
    "for fruit in fruits_today_list:\n",
    "    print(fruit)"
   ]
  },
  {
   "cell_type": "markdown",
   "metadata": {},
   "source": [
    "Indexing\n",
    "\n",
    "- an operation to access \"an item\"\n",
    "- what is an item in the context of strings? it is one of the character inside the string\n",
    "- we can use [] operator for indexing\n",
    "- slicing is also possible if we want to access multiple characters\n",
    "- we can use : operator for slicing"
   ]
  },
  {
   "cell_type": "code",
   "execution_count": 14,
   "metadata": {},
   "outputs": [
    {
     "name": "stdout",
     "output_type": "stream",
     "text": [
      "Ghalia Ghazal\n",
      "The first letter of the string is: G\n",
      "The last letter is: l\n",
      "The last letter is: l\n"
     ]
    }
   ],
   "source": [
    "# index\n",
    "\n",
    "print(fullname_with_space)\n",
    "print(f\"The first letter of the string is: {fullname_with_space[0]}\")\n",
    "print(f\"The last letter is: {fullname_with_space[12]}\")\n",
    "print(f\"The last letter is: {fullname_with_space[-1]}\")"
   ]
  },
  {
   "cell_type": "code",
   "execution_count": 19,
   "metadata": {},
   "outputs": [
    {
     "name": "stdout",
     "output_type": "stream",
     "text": [
      "The first three letters: Gha\n",
      "The last two letters: al\n",
      "The last five letters: lazah\n"
     ]
    }
   ],
   "source": [
    "# slicing (from the left)\n",
    "print(f\"The first three letters: {fullname_with_space[0:3]}\")\n",
    "print(f\"The last two letters: {fullname_with_space[-2:]}\")\n",
    "\n",
    "# slicing reversely\n",
    "print(f\"The last five letters: {fullname_with_space[-1:-6:-1]}\")"
   ]
  },
  {
   "cell_type": "markdown",
   "metadata": {},
   "source": [
    "Some common examples to clean strings\n",
    "\n",
    "- make use of string methods\n",
    "- a good introduction of many common string methods here: https://www.geeksforgeeks.org/python/python-string-methods/\n",
    "\n",
    "- syntax of using function on string variable\n",
    "len(string_variable)\n",
    "- syntax of using method on string variable\n",
    "string_varaible.upper()"
   ]
  },
  {
   "cell_type": "code",
   "execution_count": 20,
   "metadata": {},
   "outputs": [
    {
     "data": {
      "text/plain": [
       "13"
      ]
     },
     "execution_count": 20,
     "metadata": {},
     "output_type": "execute_result"
    }
   ],
   "source": [
    "# use len() function to check the length of string\n",
    "len(fullname_with_space)"
   ]
  },
  {
   "cell_type": "code",
   "execution_count": 21,
   "metadata": {},
   "outputs": [
    {
     "data": {
      "text/plain": [
       "['Math', ' biology  ', ' cHemMistry ', ' PrOgramming    ']"
      ]
     },
     "execution_count": 21,
     "metadata": {},
     "output_type": "execute_result"
    }
   ],
   "source": [
    "# spliting a string \n",
    "\n",
    "subjects = \"Math, biology  , cHemMistry , PrOgramming    \"\n",
    "\n",
    "subjects = subjects.split(\",\")\n",
    "\n",
    "subjects"
   ]
  },
  {
   "cell_type": "code",
   "execution_count": null,
   "metadata": {},
   "outputs": [],
   "source": []
  },
  {
   "cell_type": "code",
   "execution_count": 22,
   "metadata": {},
   "outputs": [
    {
     "name": "stdout",
     "output_type": "stream",
     "text": [
      "Math\n",
      "biology\n",
      "cHemMistry\n",
      "PrOgramming\n"
     ]
    }
   ],
   "source": [
    "# strip off leading and trailing space \n",
    "# check out also rstrip() and lstrip()\n",
    "for subject in subjects:\n",
    "    print(subject.strip())\n"
   ]
  },
  {
   "cell_type": "code",
   "execution_count": 23,
   "metadata": {},
   "outputs": [
    {
     "name": "stdout",
     "output_type": "stream",
     "text": [
      "MATH\n",
      "BIOLOGY\n",
      "CHEMMISTRY\n",
      "PROGRAMMING\n"
     ]
    }
   ],
   "source": [
    "# making upper case letter\n",
    "# checkout lower()\n",
    "\n",
    "for subject in subjects:\n",
    "    print(subject.strip().upper())"
   ]
  },
  {
   "cell_type": "code",
   "execution_count": 24,
   "metadata": {},
   "outputs": [
    {
     "name": "stdout",
     "output_type": "stream",
     "text": [
      "MATH\n",
      "BIOLOGY\n",
      "CHEMMISTRY\n",
      "PROGRAMMING\n"
     ]
    }
   ],
   "source": [
    "# making upper case letter\n",
    "# checkout lower()\n",
    "\n",
    "for subject in subjects:\n",
    "    print(subject.strip().upper())"
   ]
  },
  {
   "cell_type": "markdown",
   "metadata": {},
   "source": [
    "Regular expression\n",
    "\n",
    "- look for a pattern\n",
    "- make use of different functions in re package\n",
    "- syntax of using functions from an imported package\n",
    "     * re.findall()\n",
    "     * imported_package.function\n",
    "- check out the w3schools re tutorial to learn more symbols to form patterns"
   ]
  },
  {
   "cell_type": "code",
   "execution_count": 25,
   "metadata": {},
   "outputs": [],
   "source": [
    "import re"
   ]
  },
  {
   "cell_type": "code",
   "execution_count": 26,
   "metadata": {},
   "outputs": [
    {
     "data": {
      "text/plain": [
       "['att', 'att']"
      ]
     },
     "execution_count": 26,
     "metadata": {},
     "output_type": "execute_result"
    }
   ],
   "source": [
    "text = \"Det var en gång en katt som tog på sign en hatt.\"\n",
    "\n",
    "list_letter_att = re.findall(\"att\", text) # the first argument is the pattern, the second part is where I to find the pattern\n",
    "\n",
    "list_letter_att"
   ]
  },
  {
   "cell_type": "code",
   "execution_count": 27,
   "metadata": {},
   "outputs": [
    {
     "data": {
      "text/plain": [
       "['katt', 'hatt']"
      ]
     },
     "execution_count": 27,
     "metadata": {},
     "output_type": "execute_result"
    }
   ],
   "source": [
    "list_word_att = re.findall(\".att\", text) \n",
    "\n",
    "list_word_att"
   ]
  },
  {
   "cell_type": "code",
   "execution_count": 28,
   "metadata": {},
   "outputs": [
    {
     "data": {
      "text/plain": [
       "['19950516-2235']"
      ]
     },
     "execution_count": 28,
     "metadata": {},
     "output_type": "execute_result"
    }
   ],
   "source": [
    "personal_number = \"Ida: 19950516-2235, Berit: 890806-3212\"\n",
    "\n",
    "personal_number_eight = re.findall(r\"\\d{8}-\\d{4}\", personal_number) # r for raw string\n",
    "\n",
    "personal_number_eight"
   ]
  },
  {
   "cell_type": "code",
   "execution_count": 29,
   "metadata": {},
   "outputs": [
    {
     "data": {
      "text/plain": [
       "['950516-2235', '890806-3212']"
      ]
     },
     "execution_count": 29,
     "metadata": {},
     "output_type": "execute_result"
    }
   ],
   "source": [
    "personal_number_six = re.findall(r\"\\d{6}-\\d{4}\", personal_number) # r for raw string\n",
    "\n",
    "personal_number_six"
   ]
  },
  {
   "cell_type": "code",
   "execution_count": null,
   "metadata": {},
   "outputs": [],
   "source": []
  }
 ],
 "metadata": {
  "kernelspec": {
   "display_name": "Python 3",
   "language": "python",
   "name": "python3"
  },
  "language_info": {
   "codemirror_mode": {
    "name": "ipython",
    "version": 3
   },
   "file_extension": ".py",
   "mimetype": "text/x-python",
   "name": "python",
   "nbconvert_exporter": "python",
   "pygments_lexer": "ipython3",
   "version": "3.12.8"
  }
 },
 "nbformat": 4,
 "nbformat_minor": 2
}
