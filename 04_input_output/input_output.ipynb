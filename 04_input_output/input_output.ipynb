{
 "cells": [
  {
   "cell_type": "markdown",
   "metadata": {},
   "source": [
    "Lecture 4 - input, output and variables\n",
    "\n",
    "- Print statement\n",
    "- To print out string"
   ]
  },
  {
   "cell_type": "code",
   "execution_count": 3,
   "metadata": {},
   "outputs": [
    {
     "name": "stdout",
     "output_type": "stream",
     "text": [
      "Hello Ghalia!\n"
     ]
    }
   ],
   "source": [
    "# you can use hashtag to comment out lines of codes \n",
    "\n",
    "print (\"Hello Ghalia!\")"
   ]
  },
  {
   "cell_type": "markdown",
   "metadata": {},
   "source": [
    "To print out string and variables"
   ]
  },
  {
   "cell_type": "code",
   "execution_count": 4,
   "metadata": {},
   "outputs": [
    {
     "name": "stdout",
     "output_type": "stream",
     "text": [
      "Hello Kokchun\n"
     ]
    }
   ],
   "source": [
    "# create a name variable\n",
    "name = \"Kokchun\"\n",
    "\n",
    "# print out hello to this person specified in the variable name\n",
    "# when printing string and variables together, we need to use f-string\n",
    "# f-string is used to combine string and variables together\n",
    "# make note of the symbol: f, {}\n",
    "print(f\"Hello {name}\") "
   ]
  },
  {
   "cell_type": "markdown",
   "metadata": {},
   "source": [
    "Variables\n",
    "\n",
    "- you can store different types of data in the variable --> assigning value to variable\n",
    "- we can use the data by referring to the variable instead\n",
    "- in lecture 4, we are see variables storing one value, even though the value can be of different types\n",
    "- in lecture 6, we will see that we can store a collection of values (list, tuple, sets, dictionary)"
   ]
  },
  {
   "cell_type": "markdown",
   "metadata": {},
   "source": [
    "create variables with different data types. "
   ]
  },
  {
   "cell_type": "code",
   "execution_count": 5,
   "metadata": {},
   "outputs": [],
   "source": [
    "#string\n",
    "first_name = \"Kokchun\"\n",
    "\n",
    "#integer\n",
    "height = 200\n",
    "\n",
    "#float, number with decimal places\n",
    "exact_height = 200.1688999"
   ]
  },
  {
   "cell_type": "markdown",
   "metadata": {},
   "source": [
    "print out a message using all these variables with different data types."
   ]
  },
  {
   "cell_type": "code",
   "execution_count": 6,
   "metadata": {},
   "outputs": [
    {
     "name": "stdout",
     "output_type": "stream",
     "text": [
      "The teacher's name is Kokchun. His height is 200cm, or more specifically 200.1688999cm.\n"
     ]
    }
   ],
   "source": [
    "print(f\"The teacher's name is {first_name}. His height is {height}cm, or more specifically {exact_height}cm.\")"
   ]
  },
  {
   "cell_type": "markdown",
   "metadata": {},
   "source": [
    "format in f-string\n",
    "\n",
    "- it does not create another variable\n",
    "- it just affects how the current variable is displayed in f-string"
   ]
  },
  {
   "cell_type": "code",
   "execution_count": 7,
   "metadata": {},
   "outputs": [
    {
     "name": "stdout",
     "output_type": "stream",
     "text": [
      "The exact height is 200.169cm.\n",
      "The value assigned to exact_height variable is still 200.1688999\n"
     ]
    }
   ],
   "source": [
    "# use : to separate the variable and the choice of format (format code)\n",
    "# .1f means after the integer, keep one decimal place (f refers to fixed point number= float number)\n",
    "\n",
    "print (f\"The exact height is {exact_height:.3f}cm.\")\n",
    "print (f\"The value assigned to exact_height variable is still {exact_height}\")"
   ]
  },
  {
   "cell_type": "markdown",
   "metadata": {},
   "source": [
    "One additional data type, boolean (bool). "
   ]
  },
  {
   "cell_type": "code",
   "execution_count": 8,
   "metadata": {},
   "outputs": [],
   "source": [
    "# str\n",
    "name = \"Kokchun\"\n",
    "\n",
    "# int\n",
    "height = 200\n",
    "\n",
    "# float\n",
    "exact_height = 200.1\n",
    "\n",
    "# bool \n",
    "is_teacher = True #alternatively, we can put False for a boolean value"
   ]
  },
  {
   "cell_type": "code",
   "execution_count": 9,
   "metadata": {},
   "outputs": [
    {
     "data": {
      "text/plain": [
       "bool"
      ]
     },
     "execution_count": 9,
     "metadata": {},
     "output_type": "execute_result"
    }
   ],
   "source": [
    "# check the data type of bool variable\n",
    "\n",
    "type (is_teacher)"
   ]
  },
  {
   "cell_type": "markdown",
   "metadata": {},
   "source": [
    "Inputs from users\n",
    "\n",
    "- how to code so that the value of the variable is decided after I run the code?"
   ]
  },
  {
   "cell_type": "markdown",
   "metadata": {},
   "source": [
    "example 1 - name variable"
   ]
  },
  {
   "cell_type": "code",
   "execution_count": 11,
   "metadata": {},
   "outputs": [
    {
     "name": "stdout",
     "output_type": "stream",
     "text": [
      "Hello Ghalia\n"
     ]
    }
   ],
   "source": [
    "# create a name variable asking for user input\n",
    "# optionally, you can add an argument in the input() function, so that it pops up a question when running this cell\n",
    "\n",
    "name = input(\"What is your first name?\")\n",
    "\n",
    "# print out a f-string\n",
    "print (f\"Hello {name}\")"
   ]
  },
  {
   "cell_type": "code",
   "execution_count": 12,
   "metadata": {},
   "outputs": [
    {
     "data": {
      "text/plain": [
       "str"
      ]
     },
     "execution_count": 12,
     "metadata": {},
     "output_type": "execute_result"
    }
   ],
   "source": [
    "# check the data type of a variable\n",
    "type (name)"
   ]
  },
  {
   "cell_type": "markdown",
   "metadata": {},
   "source": [
    "example 2 - age variable\n",
    "\n",
    "- compare this with example 1, you can see that input() function always returns string variable"
   ]
  },
  {
   "cell_type": "markdown",
   "metadata": {},
   "source": [
    "that input() function always returns string variable"
   ]
  },
  {
   "cell_type": "code",
   "execution_count": 13,
   "metadata": {},
   "outputs": [],
   "source": [
    "age = input (\"What is your age?\")\n"
   ]
  },
  {
   "cell_type": "markdown",
   "metadata": {},
   "source": [
    "Type coercions\n",
    "\n",
    "- converting data types from one to another\n",
    "- applies on variable in general, not just when using input() function"
   ]
  },
  {
   "cell_type": "code",
   "execution_count": null,
   "metadata": {},
   "outputs": [],
   "source": [
    "# double check the data type and value for the existing age variable\n",
    "\n",
    "# as by default, .ipynb file cell only shows output from the last line of code, therefore, you can use print() to force it to print out other lines\n",
    "print(type(age)) \n",
    "\n",
    "# compare the follow two lines, they show print() function is not showing the exact value of this variable\n",
    "print(age)\n",
    "age"
   ]
  },
  {
   "cell_type": "code",
   "execution_count": 15,
   "metadata": {},
   "outputs": [
    {
     "data": {
      "text/plain": [
       "int"
      ]
     },
     "execution_count": 15,
     "metadata": {},
     "output_type": "execute_result"
    }
   ],
   "source": [
    "# convert to int and create a new variable for this\n",
    "age_integer = int(age)\n",
    "\n",
    "# check the resulting data type for age_int, the variable after type coercion\n",
    "type(age_integer)"
   ]
  },
  {
   "cell_type": "code",
   "execution_count": 16,
   "metadata": {},
   "outputs": [
    {
     "data": {
      "text/plain": [
       "int"
      ]
     },
     "execution_count": 16,
     "metadata": {},
     "output_type": "execute_result"
    }
   ],
   "source": [
    "# convert to int and overwrite the existing variable\n",
    "age = int(age)\n",
    "\n",
    "type(age)"
   ]
  }
 ],
 "metadata": {
  "kernelspec": {
   "display_name": ".venv",
   "language": "python",
   "name": "python3"
  },
  "language_info": {
   "codemirror_mode": {
    "name": "ipython",
    "version": 3
   },
   "file_extension": ".py",
   "mimetype": "text/x-python",
   "name": "python",
   "nbconvert_exporter": "python",
   "pygments_lexer": "ipython3",
   "version": "3.12.8"
  }
 },
 "nbformat": 4,
 "nbformat_minor": 2
}
