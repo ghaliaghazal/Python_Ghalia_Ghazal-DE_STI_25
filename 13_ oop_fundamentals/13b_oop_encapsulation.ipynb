{
 "cells": [
  {
   "cell_type": "markdown",
   "metadata": {},
   "source": [
    "# OOP encapsulation\n",
    "\n",
    "- information hiding\n",
    "- user don't need to know underlying how it works\n",
    "- for exemple we can hide validation - e.g. proper age for a person\n",
    "- user of your class need to know how to use it - i.e. witch methods and attributes can be used\n",
    "\n",
    "In general\n",
    "\n",
    "- one way to do encapsulation is to use private attribut and private methods\n",
    "   - these can't be accessed from outside of the class\n",
    "\n",
    "- however in python there is no such thing as private\n",
    "- in python - private by convention by using a underscore prefix"
   ]
  },
  {
   "cell_type": "code",
   "execution_count": 4,
   "metadata": {},
   "outputs": [
    {
     "data": {
      "text/plain": [
       "('Kokchun', 34)"
      ]
     },
     "execution_count": 4,
     "metadata": {},
     "output_type": "execute_result"
    }
   ],
   "source": [
    "class person:\n",
    "    def __init__ (self, name, age):\n",
    "        self. name = name\n",
    "        self.age = age\n",
    "\n",
    "p1 = person ( \"Kokchun\", 34)\n",
    "p1.name, p1.age"
   ]
  },
  {
   "cell_type": "code",
   "execution_count": 6,
   "metadata": {},
   "outputs": [
    {
     "data": {
      "text/plain": [
       "('Ghalia', 37)"
      ]
     },
     "execution_count": 6,
     "metadata": {},
     "output_type": "execute_result"
    }
   ],
   "source": [
    "p2 = person (\"Ghalia\", 37)\n",
    "\n",
    "p2.name, p2.age"
   ]
  },
  {
   "cell_type": "code",
   "execution_count": 7,
   "metadata": {},
   "outputs": [
    {
     "ename": "AttributeError",
     "evalue": "'person' object has no attribute 'name'",
     "output_type": "error",
     "traceback": [
      "\u001b[31m---------------------------------------------------------------------------\u001b[39m",
      "\u001b[31mAttributeError\u001b[39m                            Traceback (most recent call last)",
      "\u001b[36mCell\u001b[39m\u001b[36m \u001b[39m\u001b[32mIn[7]\u001b[39m\u001b[32m, line 9\u001b[39m\n\u001b[32m      6\u001b[39m p3 = person(\u001b[33m\"\u001b[39m\u001b[33mBeda\u001b[39m\u001b[33m\"\u001b[39m, -\u001b[32m3\u001b[39m)\n\u001b[32m      8\u001b[39m \u001b[38;5;66;03m# name attribut don't exist anymore\u001b[39;00m\n\u001b[32m----> \u001b[39m\u001b[32m9\u001b[39m \u001b[43mp3\u001b[49m\u001b[43m.\u001b[49m\u001b[43mname\u001b[49m \n",
      "\u001b[31mAttributeError\u001b[39m: 'person' object has no attribute 'name'"
     ]
    }
   ],
   "source": [
    "class person:\n",
    "    def __init__ (self, name, age):\n",
    "        self. _name = name\n",
    "        self._age = age\n",
    "\n",
    "p3 = person(\"Beda\", -3)\n",
    "\n",
    "# name attribut don't exist anymore\n",
    "p3.name "
   ]
  },
  {
   "cell_type": "code",
   "execution_count": 8,
   "metadata": {},
   "outputs": [
    {
     "data": {
      "text/plain": [
       "'Beda'"
      ]
     },
     "execution_count": 8,
     "metadata": {},
     "output_type": "execute_result"
    }
   ],
   "source": [
    "# you should not do this, but you can \n",
    "# python programmers know that anderscore prefix is private by convention\n",
    "\n",
    "p3._name"
   ]
  },
  {
   "cell_type": "markdown",
   "metadata": {},
   "source": [
    "fix validation of age - Naive approach"
   ]
  },
  {
   "cell_type": "code",
   "execution_count": 9,
   "metadata": {},
   "outputs": [
    {
     "name": "stdout",
     "output_type": "stream",
     "text": [
      "age must be between 0 and 124\n"
     ]
    },
    {
     "data": {
      "text/plain": [
       "person ('Eda', '5')"
      ]
     },
     "execution_count": 9,
     "metadata": {},
     "output_type": "execute_result"
    }
   ],
   "source": [
    "class person:\n",
    "    def __init__ (self, name, age):\n",
    "        self. _name = name\n",
    "\n",
    "        # issue: this validation only happens during instantiation\n",
    "        if not (0 <= age < 125):\n",
    "            raise ValueError (\"age must be between 0 and 124\")\n",
    "        self._age = age\n",
    "    def __repr__(self):\n",
    "        return f\"person ('{self._name}', '{self._age}')\"\n",
    "try:\n",
    "    p4 = person (\"Doda\", -5)\n",
    "except ValueError as err:\n",
    "    print (err)\n",
    "\n",
    "p5 = person (\"Eda\", 5)\n",
    "p5\n"
   ]
  },
  {
   "cell_type": "code",
   "execution_count": 10,
   "metadata": {},
   "outputs": [
    {
     "data": {
      "text/plain": [
       "person ('Eda', '-5')"
      ]
     },
     "execution_count": 10,
     "metadata": {},
     "output_type": "execute_result"
    }
   ],
   "source": [
    "# this is not good, but okay because validation happens only in __init__ now\n",
    "p5._age = -5 \n",
    "p5"
   ]
  },
  {
   "cell_type": "code",
   "execution_count": 11,
   "metadata": {},
   "outputs": [
    {
     "ename": "AttributeError",
     "evalue": "'person' object has no attribute 'age'",
     "output_type": "error",
     "traceback": [
      "\u001b[31m---------------------------------------------------------------------------\u001b[39m",
      "\u001b[31mAttributeError\u001b[39m                            Traceback (most recent call last)",
      "\u001b[36mCell\u001b[39m\u001b[36m \u001b[39m\u001b[32mIn[11]\u001b[39m\u001b[32m, line 1\u001b[39m\n\u001b[32m----> \u001b[39m\u001b[32m1\u001b[39m \u001b[43mp5\u001b[49m\u001b[43m.\u001b[49m\u001b[43mage\u001b[49m\n",
      "\u001b[31mAttributeError\u001b[39m: 'person' object has no attribute 'age'"
     ]
    }
   ],
   "source": [
    "p5.age"
   ]
  },
  {
   "cell_type": "markdown",
   "metadata": {},
   "source": [
    "# Property\n",
    "- getter -> gets a value\n",
    "- setter -> sets a value\n",
    "\n",
    "idea: put in validation code in the setter -> encapsulated validation code"
   ]
  },
  {
   "cell_type": "markdown",
   "metadata": {},
   "source": [
    "# read-only age\n",
    "\n",
    "only the getter is defined that is with the @property"
   ]
  },
  {
   "cell_type": "code",
   "execution_count": 38,
   "metadata": {},
   "outputs": [
    {
     "name": "stdout",
     "output_type": "stream",
     "text": [
      "age getter called\n"
     ]
    },
    {
     "data": {
      "text/plain": [
       "8"
      ]
     },
     "execution_count": 38,
     "metadata": {},
     "output_type": "execute_result"
    }
   ],
   "source": [
    "class person:\n",
    "    def __init__ (self, name, age):\n",
    "        self._name = name\n",
    "\n",
    "        # issue: this validation only happens during instantiation\n",
    "        if not (0 <= age < 125):\n",
    "            raise ValueError (\"age must be between 0 and 124\")\n",
    "        self._age = age\n",
    "\n",
    "    # a decorator - it gives a function more functionality\n",
    "    # makes it into a property (getter and setter)\n",
    "    @property\n",
    "    def age (self):\n",
    "        print (\"age getter called\")\n",
    "        return self._age\n",
    "\n",
    "    def __repr__(self):\n",
    "        return f\"Person('{self._name}', {self._age})\"\n",
    "\n",
    "p6 = person(\"Bibbi\", 8)\n",
    "p6.age\n",
    "\n",
    "\n",
    "        "
   ]
  },
  {
   "cell_type": "code",
   "execution_count": 12,
   "metadata": {},
   "outputs": [
    {
     "ename": "NameError",
     "evalue": "name 'p6' is not defined",
     "output_type": "error",
     "traceback": [
      "\u001b[31m---------------------------------------------------------------------------\u001b[39m",
      "\u001b[31mNameError\u001b[39m                                 Traceback (most recent call last)",
      "\u001b[36mCell\u001b[39m\u001b[36m \u001b[39m\u001b[32mIn[12]\u001b[39m\u001b[32m, line 1\u001b[39m\n\u001b[32m----> \u001b[39m\u001b[32m1\u001b[39m \u001b[43mp6\u001b[49m.age = \u001b[32m5\u001b[39m\n",
      "\u001b[31mNameError\u001b[39m: name 'p6' is not defined"
     ]
    }
   ],
   "source": [
    "p6.age = 5"
   ]
  },
  {
   "cell_type": "markdown",
   "metadata": {},
   "source": [
    "# implementing setter"
   ]
  },
  {
   "cell_type": "code",
   "execution_count": 13,
   "metadata": {},
   "outputs": [
    {
     "name": "stdout",
     "output_type": "stream",
     "text": [
      "age setter called\n",
      "age getter called\n"
     ]
    },
    {
     "data": {
      "text/plain": [
       "8"
      ]
     },
     "execution_count": 13,
     "metadata": {},
     "output_type": "execute_result"
    }
   ],
   "source": [
    "class person:\n",
    "    def __init__ (self, name, age):\n",
    "        self.name = name\n",
    "        if not ( 0 <= age <= 125 ):\n",
    "            raise ValueError ( \"Age must be between 0 and 124\")\n",
    "\n",
    "        self.age = age\n",
    "    @property\n",
    "    def age (self):\n",
    "        print (\"age getter called\")\n",
    "        return self._age\n",
    "\n",
    "    @age.setter\n",
    "    def age (self, value):\n",
    "        print (\"age setter called\")\n",
    "        self._age= value\n",
    "\n",
    "\n",
    "    def __repr__ (self):\n",
    "        return f\"Person('{self._name}', {self._age})\"\n",
    "\n",
    "p7 = person (\"Bobbo\", 8)\n",
    "\n",
    "p7.age\n"
   ]
  },
  {
   "cell_type": "code",
   "execution_count": null,
   "metadata": {},
   "outputs": [],
   "source": [
    "p7.age = 33\n",
    "p7"
   ]
  },
  {
   "cell_type": "markdown",
   "metadata": {},
   "source": [
    "# Exercise"
   ]
  },
  {
   "cell_type": "markdown",
   "metadata": {},
   "source": [
    "-OOP employee encapsulation exercise"
   ]
  },
  {
   "cell_type": "markdown",
   "metadata": {},
   "source": [
    "make sure that this is not allowed, give proper error message\n",
    "\n",
    "- test them out, both getter and setter\n",
    "- extra: check the type also with isinstance()"
   ]
  },
  {
   "cell_type": "code",
   "execution_count": 65,
   "metadata": {},
   "outputs": [
    {
     "data": {
      "text/plain": [
       "employee ( Cicci, 200212123232, 30000, Säljare, 2024 )"
      ]
     },
     "execution_count": 65,
     "metadata": {},
     "output_type": "execute_result"
    }
   ],
   "source": [
    "class employee:\n",
    "    def __init__ (self, name, social_security_nr, salary, role, employment_year):\n",
    "        self.name = name\n",
    "        self._social_security_nr = social_security_nr\n",
    "        self.salary = salary\n",
    "        self.role = role\n",
    "        self.employment_year= employment_year\n",
    "\n",
    "\n",
    "    @property\n",
    "    def salary (self):\n",
    "        return self.increase_salary\n",
    "\n",
    "\n",
    "        @salary.setter\n",
    "        def salary (self, value):\n",
    "            if value <=0:\n",
    "                raise ValueError (f\" Salary can't be negative, you inputted {value}\")\n",
    "                self._salary= value\n",
    "\n",
    "\n",
    "\n",
    "\n",
    "\n",
    "\n",
    "    def increase_salary (self, value):\n",
    "        self.salary += value\n",
    "\n",
    "    def __repr__ (self):\n",
    "        return f\"employee ( {self.name}, {self._social_security_nr}, {self.salary}, {self.role}, {self.employment_year} )\"\n",
    "\n",
    "e1 = employee (\"Cicci\", 200212123232, 25000, \"Säljare\", 2024)\n",
    "\n",
    "e1.increase_salary (5000)\n",
    "e1\n",
    "\n",
    "\n"
   ]
  },
  {
   "cell_type": "code",
   "execution_count": 67,
   "metadata": {},
   "outputs": [
    {
     "data": {
      "text/plain": [
       "employee ( Diddi, 200212123232, 25000, Devolper, 2024 )"
      ]
     },
     "execution_count": 67,
     "metadata": {},
     "output_type": "execute_result"
    }
   ],
   "source": [
    "e2 = employee (\"Diddi\", 200212123232, 25000, \"Devolper\", 2024)\n",
    "e2\n",
    "\n",
    "\n"
   ]
  },
  {
   "cell_type": "code",
   "execution_count": null,
   "metadata": {},
   "outputs": [],
   "source": [
    "help (employee)"
   ]
  }
 ],
 "metadata": {
  "kernelspec": {
   "display_name": ".venv",
   "language": "python",
   "name": "python3"
  },
  "language_info": {
   "codemirror_mode": {
    "name": "ipython",
    "version": 3
   },
   "file_extension": ".py",
   "mimetype": "text/x-python",
   "name": "python",
   "nbconvert_exporter": "python",
   "pygments_lexer": "ipython3",
   "version": "3.12.8"
  }
 },
 "nbformat": 4,
 "nbformat_minor": 2
}
