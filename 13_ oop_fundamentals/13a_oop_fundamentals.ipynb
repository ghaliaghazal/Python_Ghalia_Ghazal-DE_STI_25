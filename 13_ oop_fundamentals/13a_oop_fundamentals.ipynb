{
 "cells": [
  {
   "cell_type": "markdown",
   "metadata": {},
   "source": [
    "# OOP fundametals\n",
    "- Obejct Oriented programmering ( Det är ett sätt att strukturera kod så att den blir mer att förstå)\n",
    "\n",
    "- attributes ( variables) _ egenskaper\n",
    "- methods (functions) _ behavior\n"
   ]
  },
  {
   "cell_type": "code",
   "execution_count": 33,
   "metadata": {},
   "outputs": [
    {
     "data": {
      "text/plain": [
       "'data engineer'"
      ]
     },
     "execution_count": 33,
     "metadata": {},
     "output_type": "execute_result"
    }
   ],
   "source": [
    "# define a class with name addmission\n",
    "class admission:\n",
    "\n",
    "    # \"dunder init\" - initializer - note 2 underscores before and after init\n",
    "    # this method will be run when you instantiate a instance from this class\n",
    "\n",
    "    def __init__(self, school, name, program):\n",
    "        self.school = school\n",
    "        self.name = name \n",
    "        self.program = program   \n",
    "# \"dunder init\" _ initializer _ note 2 underscore befor and after init\n",
    "def __init__(self, school, name, program) : \n",
    "    print (\"dnder init running\")\n",
    "    \n",
    "    #set the attributes to the values from the arguments\n",
    "    self.school = school\n",
    "    self.name = name\n",
    "    self.program = program\n",
    "\n",
    "\n",
    "# instantiate the instance person1 tht is of type admission\n",
    "person1 = admission(\"STI\", \"Ceda\", \"data engineer\")\n",
    "\n",
    "person1.program\n"
   ]
  },
  {
   "cell_type": "markdown",
   "metadata": {},
   "source": [
    "# Note on memory\n",
    "By default, the __ repo__ of an instance is showing the memory address of where the instance live \n",
    "- each instance of the class lives in different memory addresses\n",
    "- they are different objects"
   ]
  },
  {
   "cell_type": "code",
   "execution_count": 34,
   "metadata": {},
   "outputs": [
    {
     "data": {
      "text/plain": [
       "'Java'"
      ]
     },
     "execution_count": 34,
     "metadata": {},
     "output_type": "execute_result"
    }
   ],
   "source": [
    "person2 = admission(name = \"Johny\", school = \"cool school\", program = \"Java\")\n",
    "person2.program"
   ]
  },
  {
   "cell_type": "markdown",
   "metadata": {},
   "source": [
    "# Implement class student\n",
    "\n",
    "\n",
    "\n",
    "black formatter (هي أداة لتنسيق الكود)\n"
   ]
  },
  {
   "cell_type": "code",
   "execution_count": 34,
   "metadata": {},
   "outputs": [
    {
     "data": {
      "text/plain": [
       "(' Anna', True)"
      ]
     },
     "execution_count": 34,
     "metadata": {},
     "output_type": "execute_result"
    }
   ],
   "source": [
    "class student:\n",
    "    def __init__ (self, name, type_of_study, passed, school, age) :\n",
    "        \n",
    "        # attributes\n",
    "        self.school = school\n",
    "        self.name = name\n",
    "        self.type_of_study = type_of_study\n",
    "        self.passed = passed\n",
    "        self.age = age\n",
    "        self.passed = passed\n",
    "\n",
    "# method\n",
    "    def study (self):\n",
    "        print (f\"{self.name} studies {self.type_of_study}\")\n",
    "\n",
    "student1 = student (\n",
    "    name = \" Anna\", \n",
    "    type_of_study = \"data engineering\", \n",
    "    passed = True, \n",
    "    school = \"STI\", \n",
    "    age = 23,\n",
    "    )\n",
    "\n",
    "student1.name, student1.passed\n",
    "\n"
   ]
  },
  {
   "cell_type": "code",
   "execution_count": 17,
   "metadata": {},
   "outputs": [
    {
     "name": "stdout",
     "output_type": "stream",
     "text": [
      " Anna studies data engineering\n"
     ]
    }
   ],
   "source": [
    "student1.study()"
   ]
  },
  {
   "cell_type": "code",
   "execution_count": 18,
   "metadata": {},
   "outputs": [
    {
     "name": "stdout",
     "output_type": "stream",
     "text": [
      " Anna studies data engineering\n"
     ]
    },
    {
     "data": {
      "text/plain": [
       "NoneType"
      ]
     },
     "execution_count": 18,
     "metadata": {},
     "output_type": "execute_result"
    }
   ],
   "source": [
    "type(student1.study())"
   ]
  },
  {
   "cell_type": "code",
   "execution_count": 19,
   "metadata": {},
   "outputs": [
    {
     "data": {
      "text/plain": [
       "'Ali'"
      ]
     },
     "execution_count": 19,
     "metadata": {},
     "output_type": "execute_result"
    }
   ],
   "source": [
    "class student:\n",
    "    def __init__ (self, age, name, program):\n",
    "        self.name = name\n",
    "        self.age = age\n",
    "        self.program = program\n",
    "    \n",
    "student3 = student (name = \"Ali\", age = 27, program = \"UX\")\n",
    "student3.name\n"
   ]
  },
  {
   "cell_type": "markdown",
   "metadata": {},
   "source": [
    "## __repr __ \\_ \\_ dunder repper method\n",
    "\n",
    "- method to represent your class to other developers \n",
    "- usually: describe how to create an instance from this class\n",
    "- by default we get e.g. <main.Student at 0x1073db590>"
   ]
  },
  {
   "cell_type": "code",
   "execution_count": 21,
   "metadata": {},
   "outputs": [
    {
     "data": {
      "text/plain": [
       "<__main__.student at 0x1064e5f40>"
      ]
     },
     "execution_count": 21,
     "metadata": {},
     "output_type": "execute_result"
    }
   ],
   "source": [
    "student1"
   ]
  },
  {
   "cell_type": "code",
   "execution_count": 32,
   "metadata": {},
   "outputs": [
    {
     "name": "stdout",
     "output_type": "stream",
     "text": [
      " Anna studies data engineering\n"
     ]
    },
    {
     "data": {
      "text/plain": [
       "Student(name=' Anna', type_of_study='data engineering', school='STI', age=23, passed=True)"
      ]
     },
     "execution_count": 32,
     "metadata": {},
     "output_type": "execute_result"
    }
   ],
   "source": [
    "class student:\n",
    "    def __init__ (self, name, type_of_study, passed, school, age) :\n",
    "        \n",
    "        # attributes\n",
    "        self.school = school\n",
    "        self.name = name\n",
    "        self.type_of_study = type_of_study\n",
    "        self.passed = passed\n",
    "        self.age = age\n",
    "\n",
    "\n",
    "\n",
    "\n",
    "# method\n",
    "    def study(self):\n",
    "        print (f\"{self.name} study {self.type_of_study}\")\n",
    "\n",
    "\n",
    "    def __repr__ (self):\n",
    "        print (f\"{self.name} studies {self.type_of_study}\")\n",
    "\n",
    "    # Student(name = \"Bobbo\", type_of_studies = \"economics\",\n",
    "    #      school = \"Cool school\", age = 31, passed = False)\n",
    "    \n",
    "        return f\"Student(name='{self.name}', type_of_study='{self.type_of_study}', school='{self.school}', age={self.age}, passed={self.passed})\"\n",
    "    \n",
    "    \n",
    "student2 = student (\n",
    "    name = \" Anna\", \n",
    "    type_of_study = \"data engineering\", \n",
    "    passed = True, \n",
    "    school = \"STI\", \n",
    "    age = 23\n",
    "    )\n",
    "\n",
    "student2\n"
   ]
  },
  {
   "cell_type": "code",
   "execution_count": 35,
   "metadata": {},
   "outputs": [
    {
     "ename": "NameError",
     "evalue": "name 'Student' is not defined",
     "output_type": "error",
     "traceback": [
      "\u001b[31m---------------------------------------------------------------------------\u001b[39m",
      "\u001b[31mNameError\u001b[39m                                 Traceback (most recent call last)",
      "\u001b[36mCell\u001b[39m\u001b[36m \u001b[39m\u001b[32mIn[35]\u001b[39m\u001b[32m, line 1\u001b[39m\n\u001b[32m----> \u001b[39m\u001b[32m1\u001b[39m \u001b[43mStudent\u001b[49m (name=\u001b[33m'\u001b[39m\u001b[33mBobbo\u001b[39m\u001b[33m'\u001b[39m, type_of_study=\u001b[33m'\u001b[39m\u001b[33meconomics\u001b[39m\u001b[33m'\u001b[39m, school=\u001b[33m'\u001b[39m\u001b[33mCool school\u001b[39m\u001b[33m'\u001b[39m, age=\u001b[32m31\u001b[39m, passed=\u001b[38;5;28;01mFalse\u001b[39;00m)\n",
      "\u001b[31mNameError\u001b[39m: name 'Student' is not defined"
     ]
    }
   ],
   "source": [
    "Student (name='Bobbo', type_of_study='economics', school='Cool school', age=31, passed=False)"
   ]
  },
  {
   "cell_type": "markdown",
   "metadata": {},
   "source": []
  },
  {
   "cell_type": "code",
   "execution_count": 36,
   "metadata": {},
   "outputs": [
    {
     "name": "stdout",
     "output_type": "stream",
     "text": [
      " Anna studies data engineering\n",
      "Student(name=' Anna', type_of_study='data engineering', school='STI', age=23, passed=True)\n"
     ]
    }
   ],
   "source": [
    "# printing -> look for __str__ method, if it doesn't exist -> look for __repr__ as a fallback\n",
    "print(student2)"
   ]
  },
  {
   "cell_type": "code",
   "execution_count": 22,
   "metadata": {},
   "outputs": [
    {
     "data": {
      "text/plain": [
       "'toyota prius'"
      ]
     },
     "execution_count": 22,
     "metadata": {},
     "output_type": "execute_result"
    }
   ],
   "source": [
    "class cars:\n",
    "    def __init__ (self, name, age, model):\n",
    "        self.age = age\n",
    "        self.model = model\n",
    "        self.name = name\n",
    "\n",
    "my_car = cars(\n",
    "    name = \"toyota\",\n",
    "    age = 2020,\n",
    "    model = \"prius\"\n",
    "    )\n",
    "\n",
    "my_car.name + \" \" +  my_car.model"
   ]
  },
  {
   "cell_type": "code",
   "execution_count": 37,
   "metadata": {},
   "outputs": [
    {
     "data": {
      "text/plain": [
       "Student(name='Babba', type_of_studies='economics', school='Cool school', age=31, passed=False)"
      ]
     },
     "execution_count": 37,
     "metadata": {},
     "output_type": "execute_result"
    }
   ],
   "source": [
    "class Student:\n",
    "    def __init__(self, name, type_of_studies, school, age, passed):\n",
    "        # attributes\n",
    "        self.name = name\n",
    "        self.type_of_studies = type_of_studies\n",
    "        self.school = school\n",
    "        self.age = age\n",
    "        self.passed = passed\n",
    "\n",
    "    # method\n",
    "    def study(self):\n",
    "        print(f\"{self.name} studies {self.type_of_studies}\")\n",
    "\n",
    "    def __str__(self):\n",
    "        return f\"{self.name} is studying {self.type_of_studies} in school {self.school}\"\n",
    "\n",
    "    def __repr__(self):\n",
    "        # Student(name = \"Bobbo\", type_of_studies = \"economics\",\n",
    "        #         school = \"Cool school\", age = 31, passed = False)\n",
    "        return f\"Student(name='{self.name}', type_of_studies='{self.type_of_studies}', school='{self.school}', age={self.age}, passed={self.passed})\"\n",
    "\n",
    "\n",
    "student3 = Student(\n",
    "    name=\"Babba\",\n",
    "    age=31,\n",
    "    school=\"Cool school\",\n",
    "    passed=False,\n",
    "    type_of_studies=\"economics\",\n",
    ")\n",
    "\n",
    "student3"
   ]
  },
  {
   "cell_type": "code",
   "execution_count": 38,
   "metadata": {},
   "outputs": [
    {
     "name": "stdout",
     "output_type": "stream",
     "text": [
      "Babba is studying economics in school Cool school\n"
     ]
    }
   ],
   "source": [
    "print (student3)"
   ]
  },
  {
   "cell_type": "code",
   "execution_count": 39,
   "metadata": {},
   "outputs": [
    {
     "data": {
      "text/plain": [
       "\"Student(name='Babba', type_of_studies='economics', school='Cool school', age=31, passed=False)\""
      ]
     },
     "execution_count": 39,
     "metadata": {},
     "output_type": "execute_result"
    }
   ],
   "source": [
    "student3.__repr__()"
   ]
  },
  {
   "cell_type": "code",
   "execution_count": 40,
   "metadata": {},
   "outputs": [
    {
     "data": {
      "text/plain": [
       "\"Student(name='Babba', type_of_studies='economics', school='Cool school', age=31, passed=False)\""
      ]
     },
     "execution_count": 40,
     "metadata": {},
     "output_type": "execute_result"
    }
   ],
   "source": [
    "repr (student3)"
   ]
  },
  {
   "cell_type": "code",
   "execution_count": 41,
   "metadata": {},
   "outputs": [
    {
     "name": "stdout",
     "output_type": "stream",
     "text": [
      "Babba studies economics\n"
     ]
    }
   ],
   "source": [
    "student3.study()"
   ]
  }
 ],
 "metadata": {
  "kernelspec": {
   "display_name": ".venv",
   "language": "python",
   "name": "python3"
  },
  "language_info": {
   "codemirror_mode": {
    "name": "ipython",
    "version": 3
   },
   "file_extension": ".py",
   "mimetype": "text/x-python",
   "name": "python",
   "nbconvert_exporter": "python",
   "pygments_lexer": "ipython3",
   "version": "3.12.8"
  }
 },
 "nbformat": 4,
 "nbformat_minor": 2
}
