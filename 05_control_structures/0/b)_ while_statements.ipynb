{
 "cells": [
  {
   "cell_type": "code",
   "execution_count": null,
   "metadata": {},
   "outputs": [],
   "source": []
  },
  {
   "cell_type": "markdown",
   "metadata": {},
   "source": [
    "Lecture 5b - while loop\n",
    "\n",
    "- loop through the same block of codes for several times\n",
    "- number of looping is not known when starting a while loop"
   ]
  },
  {
   "cell_type": "code",
   "execution_count": 1,
   "metadata": {},
   "outputs": [
    {
     "name": "stdout",
     "output_type": "stream",
     "text": [
      "0\n",
      "1\n",
      "2\n",
      "3\n",
      "4\n"
     ]
    }
   ],
   "source": [
    "# a simple example \n",
    "\n",
    "i = 0\n",
    "\n",
    "while i < 5: #repeat multiples until the condition is not met\n",
    "    print (i)\n",
    "    i += 1 # += is similar to =, also assignment operator, it does i = i+2"
   ]
  },
  {
   "cell_type": "markdown",
   "metadata": {},
   "source": [
    "Example of oil leakage\n",
    "\n",
    "- in year 0, for beginning, we have 80000 birds\n",
    "- due to oil leakage, 50% of birds will die every year (note that the nr of dead birds is not an absolute number)\n",
    "- when will the number of birds become 8000?\n",
    "- in this example, we don't know about how many years need to be repeated to reach this number (8000 birds)"
   ]
  },
  {
   "cell_type": "code",
   "execution_count": 7,
   "metadata": {},
   "outputs": [],
   "source": [
    "# initial values for the year and birds variables\n",
    "year = 0\n",
    "birds = 80000"
   ]
  },
  {
   "cell_type": "code",
   "execution_count": null,
   "metadata": {},
   "outputs": [],
   "source": [
    "while birds > 8000: # provide a condition, not the number of looping times with the while statement\n",
    "    print(f\"Currently, this is year {year} and the number of birds is {birds:.0f}\") # note that we format the birds variable here\n",
    "    birds /= 2 # use the assignment operator /=, to simplify the code: birds = birds/2\n",
    "    print(f\"At the end of year {year}, the number of birds decreases to {birds:.0f}\")\n",
    "    print(\"-------------------------\")\n",
    "    year +=1 \n",
    "\n",
    "print(f\"It takes {year} years for the number of birds to drops to 8000.\")\n",
    "    "
   ]
  },
  {
   "cell_type": "markdown",
   "metadata": {},
   "source": [
    "Infinite while loop and break statement\n",
    "\n",
    "- the special thing about an infinite while loop is that the condition is always True\n",
    "- loop through the same block of codes for several times\n",
    "- number of looping is not known when starting a while loop\n",
    "- instead of having the condition at the beginning of the while loop, the condition is still here, but it is evaluated within the block of codes that we want to repeat\n",
    "- the motivation/use case: whether the condition is met will be decided during iteration"
   ]
  },
  {
   "cell_type": "code",
   "execution_count": 11,
   "metadata": {},
   "outputs": [
    {
     "name": "stdout",
     "output_type": "stream",
     "text": [
      "0\n",
      "1\n",
      "2\n",
      "3\n",
      "4\n"
     ]
    }
   ],
   "source": [
    "# turning the simple example above to an infinite while loop\n",
    "i = 0\n",
    "\n",
    "while True:\n",
    "    print(i)\n",
    "    i += 1\n",
    "\n",
    "    if i >= 5: # this is the same as saying when i is bigger than 4 (i > 4)\n",
    "        break"
   ]
  }
 ],
 "metadata": {
  "kernelspec": {
   "display_name": "Python 3",
   "language": "python",
   "name": "python3"
  },
  "language_info": {
   "codemirror_mode": {
    "name": "ipython",
    "version": 3
   },
   "file_extension": ".py",
   "mimetype": "text/x-python",
   "name": "python",
   "nbconvert_exporter": "python",
   "pygments_lexer": "ipython3",
   "version": "3.12.8"
  }
 },
 "nbformat": 4,
 "nbformat_minor": 2
}
