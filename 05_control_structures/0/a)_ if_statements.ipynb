{
 "cells": [
  {
   "cell_type": "markdown",
   "metadata": {},
   "source": [
    "Lecture 5a - if statement\n",
    "\n",
    "\n",
    "- one way to control the flow of running the scripts\n",
    "- use if statement for controlling the flow based on conditions"
   ]
  },
  {
   "cell_type": "markdown",
   "metadata": {},
   "source": [
    "Example of two possible scenarios\n",
    "\n",
    "- based on the user's input of age, print out a message showing that it the user should watch a scary movie"
   ]
  },
  {
   "cell_type": "code",
   "execution_count": 3,
   "metadata": {},
   "outputs": [
    {
     "name": "stdout",
     "output_type": "stream",
     "text": [
      "Sorry, you are too young to watch this scary movie\n",
      "Watch this cartoon instead\n"
     ]
    }
   ],
   "source": [
    "age = int(input(\"Enter your age:\"))\n",
    "age_limit = 15\n",
    "\n",
    "if age < age_limit: # between if and :, specify your condition\n",
    "    # if the condition is met, run the block of codes\n",
    "    print(\"Sorry, you are too young to watch this scary movie\")\n",
    "    print(\"Watch this cartoon instead\")\n",
    "else: \n",
    "    # if the condition is not met, run this block of codes instead\n",
    "    print(\"Enjoy this scary movie\")\n"
   ]
  },
  {
   "cell_type": "markdown",
   "metadata": {},
   "source": [
    "Example of more than two possible scenarios\n",
    "\n",
    "- use if - elif - else statement\n",
    "- the following example shows how to suggest the dos of medicine depending on the patient's weight"
   ]
  },
  {
   "cell_type": "code",
   "execution_count": 8,
   "metadata": {},
   "outputs": [
    {
     "data": {
      "text/plain": [
       "float"
      ]
     },
     "execution_count": 8,
     "metadata": {},
     "output_type": "execute_result"
    }
   ],
   "source": [
    "weight = float(input(\"What is your weight in kg: \"))\n",
    "\n",
    "type(weight)"
   ]
  },
  {
   "cell_type": "code",
   "execution_count": 9,
   "metadata": {},
   "outputs": [
    {
     "name": "stdout",
     "output_type": "stream",
     "text": [
      "The patient should take 750mg per day\n"
     ]
    }
   ],
   "source": [
    "if weight < 20:\n",
    "    # python will first check if weight is less than 20\n",
    "    # if yes, run this part of the code and stop \n",
    "    print(\"The patient should take 500mg per day\")\n",
    "elif weight < 40:\n",
    "    # python will secondly check if weight is less than 40\n",
    "    # if yes, run this part of the code and stop\n",
    "    print(\"The patient should take 750mg per day\")\n",
    "else: \n",
    "    # if the two scenarios above are not met, python will run this part of the code and stop \n",
    "    print(\"The patient should take 1000mg per day\")"
   ]
  },
  {
   "cell_type": "markdown",
   "metadata": {},
   "source": [
    "Modulo operator (%)\n",
    "\n",
    "- return the reminder of a division\n",
    "- for example 5 % 3 = 2, 9 % 3 = 0"
   ]
  },
  {
   "cell_type": "code",
   "execution_count": 10,
   "metadata": {},
   "outputs": [
    {
     "name": "stdout",
     "output_type": "stream",
     "text": [
      "It is an odd number and the value assigned to this is 5.\n"
     ]
    }
   ],
   "source": [
    "number = 5\n",
    "\n",
    "# print out whether the value assigned to the variable, number, is odd or even\n",
    "if number % 2 == 0: # == is the equality operator\n",
    "    print(f\"It is an even number and the value assigned to this is {number}.\")\n",
    "else:\n",
    "    print(f\"It is an odd number and the value assigned to this is {number}.\")\n"
   ]
  },
  {
   "cell_type": "markdown",
   "metadata": {},
   "source": [
    "Nested if statement\n",
    "\n",
    "- when we have another if statement under a scenario\n",
    "- you need to think if nested if statement produces clean codes"
   ]
  },
  {
   "cell_type": "code",
   "execution_count": null,
   "metadata": {},
   "outputs": [],
   "source": [
    "number = int(input(\"Enter a number: \"))\n",
    "\n",
    "# if a number is divisible by 5, further check it is also divisible by 2 (even number)\n",
    "if number % 5 == 0: \n",
    "    print(\"This is divisible by 5. Check also if it is divisible by 2.\")\n",
    "    if number % 2 == 0:\n",
    "        print(\"This is an even number.\")\n",
    "    else:\n",
    "        print(\"This is an odd number.\")\n",
    "else:\n",
    "    print(\"This is not divisible by 5. No need to check more.\")"
   ]
  },
  {
   "cell_type": "markdown",
   "metadata": {},
   "source": [
    "One line if statement\n",
    "\n",
    "- you write one line if statement, usually when refractoring your original if statement with multiple lines of codes\n",
    "- you need to think about if an one line if statement can make your codes better, is it cleaner and more readable?"
   ]
  },
  {
   "cell_type": "code",
   "execution_count": 13,
   "metadata": {},
   "outputs": [],
   "source": [
    "name = \"Olivia\"\n",
    "gender = \"female\"\n",
    "age = 7"
   ]
  },
  {
   "cell_type": "code",
   "execution_count": 15,
   "metadata": {},
   "outputs": [
    {
     "name": "stdout",
     "output_type": "stream",
     "text": [
      "There is letter O in the name\n"
     ]
    }
   ],
   "source": [
    "# multiple lines of code\n",
    "if \"O\" in name:\n",
    "    print(\"There is letter O in the name\")"
   ]
  },
  {
   "cell_type": "code",
   "execution_count": 16,
   "metadata": {},
   "outputs": [
    {
     "name": "stdout",
     "output_type": "stream",
     "text": [
      "There is letter O in the name\n"
     ]
    }
   ],
   "source": [
    "# one line of code\n",
    "if \"O\" in name: print(\"There is letter O in the name\")"
   ]
  }
 ],
 "metadata": {
  "kernelspec": {
   "display_name": ".venv",
   "language": "python",
   "name": "python3"
  },
  "language_info": {
   "codemirror_mode": {
    "name": "ipython",
    "version": 3
   },
   "file_extension": ".py",
   "mimetype": "text/x-python",
   "name": "python",
   "nbconvert_exporter": "python",
   "pygments_lexer": "ipython3",
   "version": "3.12.8"
  }
 },
 "nbformat": 4,
 "nbformat_minor": 2
}
